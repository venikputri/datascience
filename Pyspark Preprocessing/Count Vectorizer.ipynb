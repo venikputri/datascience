{
 "cells": [
  {
   "cell_type": "code",
   "execution_count": 1,
   "metadata": {},
   "outputs": [],
   "source": [
    "from pyspark import SparkConf, SparkContext\n",
    "from pyspark.sql import SparkSession, SQLContext"
   ]
  },
  {
   "cell_type": "code",
   "execution_count": 2,
   "metadata": {},
   "outputs": [
    {
     "data": {
      "text/html": [
       "\n",
       "            <div>\n",
       "                <p><b>SparkSession - hive</b></p>\n",
       "                \n",
       "        <div>\n",
       "            <p><b>SparkContext</b></p>\n",
       "\n",
       "            <p><a href=\"http://hz1:4061\">Spark UI</a></p>\n",
       "\n",
       "            <dl>\n",
       "              <dt>Version</dt>\n",
       "                <dd><code>v2.3.1.3.0.1.0-187</code></dd>\n",
       "              <dt>Master</dt>\n",
       "                <dd><code>yarn</code></dd>\n",
       "              <dt>AppName</dt>\n",
       "                <dd><code>PySparkShell</code></dd>\n",
       "            </dl>\n",
       "        </div>\n",
       "        \n",
       "            </div>\n",
       "        "
      ],
      "text/plain": [
       "<pyspark.sql.session.SparkSession at 0x7faee3b05190>"
      ]
     },
     "execution_count": 2,
     "metadata": {},
     "output_type": "execute_result"
    }
   ],
   "source": [
    "spark"
   ]
  },
  {
   "cell_type": "code",
   "execution_count": 3,
   "metadata": {},
   "outputs": [],
   "source": [
    "a = spark.createDataFrame([(0, [\"a\", \"b\", \"c\"]), (1, [\"a\", \"b\", \"b\", \"c\", \"a\"])],\n",
    "                          [\"label\", \"raw\"])"
   ]
  },
  {
   "cell_type": "code",
   "execution_count": 4,
   "metadata": {},
   "outputs": [
    {
     "data": {
      "text/plain": [
       "DataFrame[label: bigint, raw: array<string>]"
      ]
     },
     "execution_count": 4,
     "metadata": {},
     "output_type": "execute_result"
    }
   ],
   "source": [
    "a"
   ]
  },
  {
   "cell_type": "code",
   "execution_count": 5,
   "metadata": {},
   "outputs": [],
   "source": [
    "from pyspark.ml.feature import CountVectorizer\n",
    "cv = CountVectorizer(inputCol=\"raw\", outputCol=\"vectors\")\n",
    "model = cv.fit(a)"
   ]
  },
  {
   "cell_type": "code",
   "execution_count": 6,
   "metadata": {},
   "outputs": [],
   "source": [
    "model = model.transform(a)"
   ]
  },
  {
   "cell_type": "code",
   "execution_count": 7,
   "metadata": {},
   "outputs": [
    {
     "name": "stdout",
     "output_type": "stream",
     "text": [
      "+-----+---------------+--------------------+\n",
      "|label|            raw|             vectors|\n",
      "+-----+---------------+--------------------+\n",
      "|    0|      [a, b, c]|(3,[0,1,2],[1.0,1...|\n",
      "|    1|[a, b, b, c, a]|(3,[0,1,2],[2.0,2...|\n",
      "+-----+---------------+--------------------+\n",
      "\n"
     ]
    }
   ],
   "source": [
    "model.show()"
   ]
  },
  {
   "cell_type": "code",
   "execution_count": null,
   "metadata": {},
   "outputs": [],
   "source": []
  },
  {
   "cell_type": "code",
   "execution_count": null,
   "metadata": {},
   "outputs": [],
   "source": []
  },
  {
   "cell_type": "code",
   "execution_count": null,
   "metadata": {},
   "outputs": [],
   "source": []
  },
  {
   "cell_type": "code",
   "execution_count": 8,
   "metadata": {},
   "outputs": [],
   "source": [
    "import pandas as pd \n",
    "df2 = pd.read_csv('/home/pygmy/Projects/Moti/public.items.csv', sep='|')"
   ]
  },
  {
   "cell_type": "code",
   "execution_count": 9,
   "metadata": {},
   "outputs": [],
   "source": [
    "from pyspark.ml.feature import Tokenizer\n",
    "df2 = spark.createDataFrame(df2)\n"
   ]
  },
  {
   "cell_type": "code",
   "execution_count": 10,
   "metadata": {},
   "outputs": [
    {
     "name": "stdout",
     "output_type": "stream",
     "text": [
      "+---+--------------------+\n",
      "| id|               items|\n",
      "+---+--------------------+\n",
      "|  0|Raw Shrimp, Seedl...|\n",
      "|  1|Cracked Wheat, St...|\n",
      "+---+--------------------+\n",
      "only showing top 2 rows\n",
      "\n"
     ]
    }
   ],
   "source": [
    "df2.show(2)"
   ]
  },
  {
   "cell_type": "code",
   "execution_count": 11,
   "metadata": {},
   "outputs": [],
   "source": [
    "tokenized = Tokenizer(inputCol=\"items\", outputCol=\"tokenized\")"
   ]
  },
  {
   "cell_type": "code",
   "execution_count": 12,
   "metadata": {},
   "outputs": [],
   "source": [
    "tokenized = tokenized.transform(df2)"
   ]
  },
  {
   "cell_type": "code",
   "execution_count": 13,
   "metadata": {},
   "outputs": [
    {
     "name": "stdout",
     "output_type": "stream",
     "text": [
      "+---+--------------------+--------------------+\n",
      "| id|               items|           tokenized|\n",
      "+---+--------------------+--------------------+\n",
      "|  0|Raw Shrimp, Seedl...|[raw, shrimp,, se...|\n",
      "|  1|Cracked Wheat, St...|[cracked, wheat,,...|\n",
      "|  2|Beet Apple Carrot...|[beet, apple, car...|\n",
      "|  3|               Vodka|             [vodka]|\n",
      "|  4|Globe Eggplant, P...|[globe, eggplant,...|\n",
      "|  5|Organic Baby Spin...|[organic, baby, s...|\n",
      "|  6|Reduced Fat Crack...|[reduced, fat, cr...|\n",
      "|  7|Organic Red Onion...|[organic, red, on...|\n",
      "|  8|Organic Cripps Pi...|[organic, cripps,...|\n",
      "|  9|Organic Baby Spin...|[organic, baby, s...|\n",
      "| 10|Uncured Beef Hot ...|[uncured, beef, h...|\n",
      "| 11|Donut House Choco...|[donut, house, ch...|\n",
      "| 12|[Concentrated But...|[[concentrated, b...|\n",
      "| 13|Raspberries, Gree...|[raspberries,, gr...|\n",
      "| 14|Original Tofurky ...|[original, tofurk...|\n",
      "| 15|Extra Hold Non-Ae...|[extra, hold, non...|\n",
      "| 16|Organic Coconut M...|[organic, coconut...|\n",
      "| 17|No. 485 Gin, Mont...|[no., 485, gin,, ...|\n",
      "| 18|Red Vine Tomato, ...|[red, vine, tomat...|\n",
      "| 19|Organic Baby Arug...|[organic, baby, a...|\n",
      "+---+--------------------+--------------------+\n",
      "only showing top 20 rows\n",
      "\n"
     ]
    }
   ],
   "source": [
    "tokenized.show()"
   ]
  },
  {
   "cell_type": "code",
   "execution_count": 14,
   "metadata": {},
   "outputs": [],
   "source": [
    "from pyspark.ml.feature import CountVectorizer\n",
    "countvector = CountVectorizer(inputCol=\"tokenized\", outputCol=\"countvectorized\")"
   ]
  },
  {
   "cell_type": "code",
   "execution_count": 15,
   "metadata": {},
   "outputs": [],
   "source": [
    "countvector = countvector.fit(tokenized)"
   ]
  },
  {
   "cell_type": "code",
   "execution_count": 16,
   "metadata": {},
   "outputs": [],
   "source": [
    "countvector = countvector.transform(tokenized)"
   ]
  },
  {
   "cell_type": "code",
   "execution_count": 17,
   "metadata": {},
   "outputs": [
    {
     "name": "stdout",
     "output_type": "stream",
     "text": [
      "+---+--------------------+--------------------+--------------------+\n",
      "| id|               items|           tokenized|     countvectorized|\n",
      "+---+--------------------+--------------------+--------------------+\n",
      "|  0|Raw Shrimp, Seedl...|[raw, shrimp,, se...|(13637,[0,11,26,3...|\n",
      "|  1|Cracked Wheat, St...|[cracked, wheat,,...|(13637,[0,2,5,7,8...|\n",
      "|  2|Beet Apple Carrot...|[beet, apple, car...|(13637,[0,45,88,1...|\n",
      "|  3|               Vodka|             [vodka]|(13637,[1141],[1.0])|\n",
      "|  4|Globe Eggplant, P...|[globe, eggplant,...|(13637,[0,1,31,37...|\n",
      "|  5|Organic Baby Spin...|[organic, baby, s...|(13637,[0,2,4,5,6...|\n",
      "|  6|Reduced Fat Crack...|[reduced, fat, cr...|(13637,[1,3,5,11,...|\n",
      "|  7|Organic Red Onion...|[organic, red, on...|(13637,[0,1,2,5,7...|\n",
      "|  8|Organic Cripps Pi...|[organic, cripps,...|(13637,[0,26,35,5...|\n",
      "|  9|Organic Baby Spin...|[organic, baby, s...|(13637,[0,6,9,12,...|\n",
      "| 10|Uncured Beef Hot ...|[uncured, beef, h...|(13637,[0,6,8,10,...|\n",
      "| 11|Donut House Choco...|[donut, house, ch...|(13637,[9,22,41,8...|\n",
      "| 12|[Concentrated But...|[[concentrated, b...|(13637,[0,1,25,26...|\n",
      "| 13|Raspberries, Gree...|[raspberries,, gr...|(13637,[5,13,18,2...|\n",
      "| 14|Original Tofurky ...|[original, tofurk...|(13637,[0,2,4,5,6...|\n",
      "| 15|Extra Hold Non-Ae...|[extra, hold, non...|(13637,[0,1,34,52...|\n",
      "| 16|Organic Coconut M...|[organic, coconut...|(13637,[0,4,17,19...|\n",
      "| 17|No. 485 Gin, Mont...|[no., 485, gin,, ...|(13637,[3,8,16,45...|\n",
      "| 18|Red Vine Tomato, ...|[red, vine, tomat...|(13637,[0,1,3,5,9...|\n",
      "| 19|Organic Baby Arug...|[organic, baby, a...|(13637,[0,6,37,52...|\n",
      "+---+--------------------+--------------------+--------------------+\n",
      "only showing top 20 rows\n",
      "\n"
     ]
    }
   ],
   "source": [
    "countvector.show()"
   ]
  },
  {
   "cell_type": "code",
   "execution_count": null,
   "metadata": {},
   "outputs": [],
   "source": []
  }
 ],
 "metadata": {
  "kernelspec": {
   "display_name": "Python 2",
   "language": "python",
   "name": "python2"
  },
  "language_info": {
   "codemirror_mode": {
    "name": "ipython",
    "version": 2
   },
   "file_extension": ".py",
   "mimetype": "text/x-python",
   "name": "python",
   "nbconvert_exporter": "python",
   "pygments_lexer": "ipython2",
   "version": "2.7.15"
  }
 },
 "nbformat": 4,
 "nbformat_minor": 2
}
