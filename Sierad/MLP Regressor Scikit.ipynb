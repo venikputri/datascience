{
 "cells": [
  {
   "cell_type": "code",
   "execution_count": 1,
   "metadata": {},
   "outputs": [
    {
     "data": {
      "text/html": [
       "<div>\n",
       "<style scoped>\n",
       "    .dataframe tbody tr th:only-of-type {\n",
       "        vertical-align: middle;\n",
       "    }\n",
       "\n",
       "    .dataframe tbody tr th {\n",
       "        vertical-align: top;\n",
       "    }\n",
       "\n",
       "    .dataframe thead th {\n",
       "        text-align: right;\n",
       "    }\n",
       "</style>\n",
       "<table border=\"1\" class=\"dataframe\">\n",
       "  <thead>\n",
       "    <tr style=\"text-align: right;\">\n",
       "      <th></th>\n",
       "      <th>Room_T</th>\n",
       "      <th>RH</th>\n",
       "      <th>Teff</th>\n",
       "      <th>Wind_Speed</th>\n",
       "    </tr>\n",
       "  </thead>\n",
       "  <tbody>\n",
       "    <tr>\n",
       "      <th>0</th>\n",
       "      <td>35</td>\n",
       "      <td>30</td>\n",
       "      <td>35.0</td>\n",
       "      <td>0.0</td>\n",
       "    </tr>\n",
       "    <tr>\n",
       "      <th>1</th>\n",
       "      <td>35</td>\n",
       "      <td>30</td>\n",
       "      <td>34.3</td>\n",
       "      <td>0.1</td>\n",
       "    </tr>\n",
       "    <tr>\n",
       "      <th>2</th>\n",
       "      <td>35</td>\n",
       "      <td>30</td>\n",
       "      <td>33.0</td>\n",
       "      <td>0.3</td>\n",
       "    </tr>\n",
       "    <tr>\n",
       "      <th>3</th>\n",
       "      <td>35</td>\n",
       "      <td>30</td>\n",
       "      <td>31.6</td>\n",
       "      <td>0.5</td>\n",
       "    </tr>\n",
       "    <tr>\n",
       "      <th>4</th>\n",
       "      <td>35</td>\n",
       "      <td>30</td>\n",
       "      <td>29.8</td>\n",
       "      <td>0.7</td>\n",
       "    </tr>\n",
       "  </tbody>\n",
       "</table>\n",
       "</div>"
      ],
      "text/plain": [
       "   Room_T  RH  Teff  Wind_Speed\n",
       "0      35  30  35.0         0.0\n",
       "1      35  30  34.3         0.1\n",
       "2      35  30  33.0         0.3\n",
       "3      35  30  31.6         0.5\n",
       "4      35  30  29.8         0.7"
      ]
     },
     "execution_count": 1,
     "metadata": {},
     "output_type": "execute_result"
    }
   ],
   "source": [
    "import pandas as pd\n",
    "import matplotlib.pyplot as pl\n",
    "import seaborn as sns\n",
    "import numpy as np\n",
    "df = pd.read_csv('sierad.csv')\n",
    "df.head()"
   ]
  },
  {
   "cell_type": "code",
   "execution_count": 2,
   "metadata": {},
   "outputs": [],
   "source": [
    "X = df.drop('Wind_Speed',axis=1)\n",
    "y = df['Wind_Speed']"
   ]
  },
  {
   "cell_type": "code",
   "execution_count": 3,
   "metadata": {},
   "outputs": [],
   "source": [
    "from sklearn.model_selection import train_test_split"
   ]
  },
  {
   "cell_type": "code",
   "execution_count": 4,
   "metadata": {},
   "outputs": [],
   "source": [
    "X_train, X_test, y_train, y_test = train_test_split(X, y)"
   ]
  },
  {
   "cell_type": "code",
   "execution_count": 5,
   "metadata": {},
   "outputs": [
    {
     "name": "stderr",
     "output_type": "stream",
     "text": [
      "/opt/anaconda2/lib/python2.7/site-packages/sklearn/preprocessing/data.py:625: DataConversionWarning: Data with input dtype int64, float64 were all converted to float64 by StandardScaler.\n",
      "  return self.partial_fit(X, y)\n",
      "/opt/anaconda2/lib/python2.7/site-packages/ipykernel_launcher.py:5: DataConversionWarning: Data with input dtype int64, float64 were all converted to float64 by StandardScaler.\n",
      "  \"\"\"\n",
      "/opt/anaconda2/lib/python2.7/site-packages/ipykernel_launcher.py:6: DataConversionWarning: Data with input dtype int64, float64 were all converted to float64 by StandardScaler.\n",
      "  \n"
     ]
    }
   ],
   "source": [
    "from sklearn.preprocessing import StandardScaler\n",
    "scaler = StandardScaler()\n",
    "scaler.fit(X_train)\n",
    "StandardScaler(copy=True, with_mean=True, with_std=True)\n",
    "X_train = scaler.transform(X_train)\n",
    "X_test = scaler.transform(X_test)"
   ]
  },
  {
   "cell_type": "code",
   "execution_count": 6,
   "metadata": {},
   "outputs": [],
   "source": [
    "from sklearn.neural_network import MLPRegressor"
   ]
  },
  {
   "cell_type": "code",
   "execution_count": 8,
   "metadata": {},
   "outputs": [],
   "source": [
    "mlp = MLPRegressor(hidden_layer_sizes=(100,), \n",
    "                   activation='relu', solver='adam', alpha=0.0001,                    \n",
    "                   batch_size='auto', learning_rate='constant', learning_rate_init=0.001,\n",
    "                   power_t=0.5, max_iter=200, shuffle=True, random_state=None, tol=0.0001, \n",
    "                   verbose=True, warm_start=False, momentum=0.9, \n",
    "                   nesterovs_momentum=True, early_stopping=False, \n",
    "                   validation_fraction=0.1, beta_1=0.9, beta_2=0.999, epsilon=1e-08,\n",
    "                   n_iter_no_change=10)"
   ]
  },
  {
   "cell_type": "code",
   "execution_count": 9,
   "metadata": {},
   "outputs": [
    {
     "name": "stdout",
     "output_type": "stream",
     "text": [
      "Iteration 1, loss = 0.93871365\n",
      "Iteration 2, loss = 0.66912390\n",
      "Iteration 3, loss = 0.47913482\n",
      "Iteration 4, loss = 0.35182869\n",
      "Iteration 5, loss = 0.26929540\n",
      "Iteration 6, loss = 0.21544285\n",
      "Iteration 7, loss = 0.17670953\n",
      "Iteration 8, loss = 0.14549753\n",
      "Iteration 9, loss = 0.11751389\n",
      "Iteration 10, loss = 0.09543904\n",
      "Iteration 11, loss = 0.07631719\n",
      "Iteration 12, loss = 0.06150918\n",
      "Iteration 13, loss = 0.04989641\n",
      "Iteration 14, loss = 0.04125080\n",
      "Iteration 15, loss = 0.03492902\n",
      "Iteration 16, loss = 0.03034557\n",
      "Iteration 17, loss = 0.02696304\n",
      "Iteration 18, loss = 0.02451967\n",
      "Iteration 19, loss = 0.02268079\n",
      "Iteration 20, loss = 0.02120348\n",
      "Iteration 21, loss = 0.02010122\n",
      "Iteration 22, loss = 0.01918455\n",
      "Iteration 23, loss = 0.01854547\n",
      "Iteration 24, loss = 0.01790864\n",
      "Iteration 25, loss = 0.01740015\n",
      "Iteration 26, loss = 0.01702357\n",
      "Iteration 27, loss = 0.01665227\n",
      "Iteration 28, loss = 0.01638563\n",
      "Iteration 29, loss = 0.01607481\n",
      "Iteration 30, loss = 0.01582347\n",
      "Iteration 31, loss = 0.01557185\n",
      "Iteration 32, loss = 0.01535958\n",
      "Iteration 33, loss = 0.01515766\n",
      "Iteration 34, loss = 0.01495162\n",
      "Iteration 35, loss = 0.01478921\n",
      "Iteration 36, loss = 0.01460404\n",
      "Iteration 37, loss = 0.01440553\n",
      "Iteration 38, loss = 0.01422455\n",
      "Iteration 39, loss = 0.01405593\n",
      "Iteration 40, loss = 0.01391747\n",
      "Iteration 41, loss = 0.01377032\n",
      "Iteration 42, loss = 0.01364773\n",
      "Iteration 43, loss = 0.01347732\n",
      "Iteration 44, loss = 0.01334051\n",
      "Iteration 45, loss = 0.01321615\n",
      "Iteration 46, loss = 0.01307723\n",
      "Iteration 47, loss = 0.01295409\n",
      "Iteration 48, loss = 0.01282309\n",
      "Iteration 49, loss = 0.01271628\n",
      "Iteration 50, loss = 0.01261198\n",
      "Iteration 51, loss = 0.01248731\n",
      "Iteration 52, loss = 0.01237020\n",
      "Iteration 53, loss = 0.01231446\n",
      "Iteration 54, loss = 0.01218067\n",
      "Iteration 55, loss = 0.01207003\n",
      "Iteration 56, loss = 0.01201708\n",
      "Iteration 57, loss = 0.01188029\n",
      "Iteration 58, loss = 0.01182096\n",
      "Iteration 59, loss = 0.01169017\n",
      "Iteration 60, loss = 0.01158237\n",
      "Iteration 61, loss = 0.01149753\n",
      "Iteration 62, loss = 0.01141347\n",
      "Iteration 63, loss = 0.01132596\n",
      "Iteration 64, loss = 0.01124582\n",
      "Iteration 65, loss = 0.01114646\n",
      "Iteration 66, loss = 0.01107093\n",
      "Iteration 67, loss = 0.01099310\n",
      "Iteration 68, loss = 0.01090439\n",
      "Iteration 69, loss = 0.01082964\n",
      "Iteration 70, loss = 0.01077441\n",
      "Iteration 71, loss = 0.01067656\n",
      "Training loss did not improve more than tol=0.000100 for 10 consecutive epochs. Stopping.\n"
     ]
    },
    {
     "data": {
      "text/plain": [
       "MLPRegressor(activation='relu', alpha=0.0001, batch_size='auto', beta_1=0.9,\n",
       "       beta_2=0.999, early_stopping=False, epsilon=1e-08,\n",
       "       hidden_layer_sizes=(100,), learning_rate='constant',\n",
       "       learning_rate_init=0.001, max_iter=200, momentum=0.9,\n",
       "       n_iter_no_change=10, nesterovs_momentum=True, power_t=0.5,\n",
       "       random_state=None, shuffle=True, solver='adam', tol=0.0001,\n",
       "       validation_fraction=0.1, verbose=True, warm_start=False)"
      ]
     },
     "execution_count": 9,
     "metadata": {},
     "output_type": "execute_result"
    }
   ],
   "source": [
    "mlp.fit(X_train,y_train)"
   ]
  },
  {
   "cell_type": "code",
   "execution_count": 10,
   "metadata": {},
   "outputs": [],
   "source": [
    "predictions = mlp.predict(X_test)"
   ]
  },
  {
   "cell_type": "code",
   "execution_count": null,
   "metadata": {},
   "outputs": [],
   "source": []
  }
 ],
 "metadata": {
  "kernelspec": {
   "display_name": "Python 2",
   "language": "python",
   "name": "python2"
  },
  "language_info": {
   "codemirror_mode": {
    "name": "ipython",
    "version": 2
   },
   "file_extension": ".py",
   "mimetype": "text/x-python",
   "name": "python",
   "nbconvert_exporter": "python",
   "pygments_lexer": "ipython2",
   "version": "2.7.15"
  }
 },
 "nbformat": 4,
 "nbformat_minor": 2
}
